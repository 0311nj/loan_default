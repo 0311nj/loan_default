{
 "cells": [
  {
   "cell_type": "code",
   "execution_count": null,
   "metadata": {},
   "outputs": [],
   "source": [
    "# Import libraries as required\n",
    "import pandas as pd\n",
    "# pip install scikit-learn\n",
    "import sklearn\n",
    "from sklearn.model_selection import train_test_split\n",
    "from sklearn.linear_model import LogisticRegression\n",
    "from sklearn.metrics import accuracy_score, classification_report, confusion_matrix\n",
    "from sklearn.ensemble import RandomForestClassifier\n",
    "from sklearn.tree import DecisionTreeClassifier\n",
    "import joblib\n",
    "import numpy as np\n"
   ]
  },
  {
   "cell_type": "code",
   "execution_count": 2,
   "metadata": {},
   "outputs": [
    {
     "name": "stderr",
     "output_type": "stream",
     "text": [
      "C:\\Users\\teoni\\AppData\\Local\\Temp\\ipykernel_24492\\2777032942.py:1: DtypeWarning: Columns (0,19,49,59,118,129,130,131,134,135,136,139,145,146,147) have mixed types. Specify dtype option on import or set low_memory=False.\n",
      "  df_accepted = pd.read_csv(\"C:\\\\Users\\\\teoni\\\\Downloads\\\\project_loan\\\\accepted_2007_to_2018Q4.csv\")\n"
     ]
    },
    {
     "name": "stdout",
     "output_type": "stream",
     "text": [
      "                                                       id  member_id  \\\n",
      "0                                                68407277        NaN   \n",
      "1                                                68355089        NaN   \n",
      "2                                                68341763        NaN   \n",
      "3                                                66310712        NaN   \n",
      "4                                                68476807        NaN   \n",
      "...                                                   ...        ...   \n",
      "2260696                                          88985880        NaN   \n",
      "2260697                                          88224441        NaN   \n",
      "2260698                                          88215728        NaN   \n",
      "2260699  Total amount funded in policy code 1: 1465324575        NaN   \n",
      "2260700   Total amount funded in policy code 2: 521953170        NaN   \n",
      "\n",
      "         loan_amnt  funded_amnt  funded_amnt_inv        term  int_rate  \\\n",
      "0           3600.0       3600.0           3600.0   36 months     13.99   \n",
      "1          24700.0      24700.0          24700.0   36 months     11.99   \n",
      "2          20000.0      20000.0          20000.0   60 months     10.78   \n",
      "3          35000.0      35000.0          35000.0   60 months     14.85   \n",
      "4          10400.0      10400.0          10400.0   60 months     22.45   \n",
      "...            ...          ...              ...         ...       ...   \n",
      "2260696    40000.0      40000.0          40000.0   60 months     10.49   \n",
      "2260697    24000.0      24000.0          24000.0   60 months     14.49   \n",
      "2260698    14000.0      14000.0          14000.0   60 months     14.49   \n",
      "2260699        NaN          NaN              NaN         NaN       NaN   \n",
      "2260700        NaN          NaN              NaN         NaN       NaN   \n",
      "\n",
      "         installment grade sub_grade  ... hardship_payoff_balance_amount  \\\n",
      "0             123.03     C        C4  ...                            NaN   \n",
      "1             820.28     C        C1  ...                            NaN   \n",
      "2             432.66     B        B4  ...                            NaN   \n",
      "3             829.90     C        C5  ...                            NaN   \n",
      "4             289.91     F        F1  ...                            NaN   \n",
      "...              ...   ...       ...  ...                            ...   \n",
      "2260696       859.56     B        B3  ...                            NaN   \n",
      "2260697       564.56     C        C4  ...                            NaN   \n",
      "2260698       329.33     C        C4  ...                            NaN   \n",
      "2260699          NaN   NaN       NaN  ...                            NaN   \n",
      "2260700          NaN   NaN       NaN  ...                            NaN   \n",
      "\n",
      "        hardship_last_payment_amount disbursement_method  \\\n",
      "0                                NaN                Cash   \n",
      "1                                NaN                Cash   \n",
      "2                                NaN                Cash   \n",
      "3                                NaN                Cash   \n",
      "4                                NaN                Cash   \n",
      "...                              ...                 ...   \n",
      "2260696                          NaN                Cash   \n",
      "2260697                          NaN                Cash   \n",
      "2260698                          NaN                Cash   \n",
      "2260699                          NaN                 NaN   \n",
      "2260700                          NaN                 NaN   \n",
      "\n",
      "         debt_settlement_flag debt_settlement_flag_date settlement_status  \\\n",
      "0                           N                       NaN               NaN   \n",
      "1                           N                       NaN               NaN   \n",
      "2                           N                       NaN               NaN   \n",
      "3                           N                       NaN               NaN   \n",
      "4                           N                       NaN               NaN   \n",
      "...                       ...                       ...               ...   \n",
      "2260696                     N                       NaN               NaN   \n",
      "2260697                     Y                  Mar-2019            ACTIVE   \n",
      "2260698                     N                       NaN               NaN   \n",
      "2260699                   NaN                       NaN               NaN   \n",
      "2260700                   NaN                       NaN               NaN   \n",
      "\n",
      "        settlement_date settlement_amount settlement_percentage  \\\n",
      "0                   NaN               NaN                   NaN   \n",
      "1                   NaN               NaN                   NaN   \n",
      "2                   NaN               NaN                   NaN   \n",
      "3                   NaN               NaN                   NaN   \n",
      "4                   NaN               NaN                   NaN   \n",
      "...                 ...               ...                   ...   \n",
      "2260696             NaN               NaN                   NaN   \n",
      "2260697        Mar-2019           10000.0                 44.82   \n",
      "2260698             NaN               NaN                   NaN   \n",
      "2260699             NaN               NaN                   NaN   \n",
      "2260700             NaN               NaN                   NaN   \n",
      "\n",
      "        settlement_term  \n",
      "0                   NaN  \n",
      "1                   NaN  \n",
      "2                   NaN  \n",
      "3                   NaN  \n",
      "4                   NaN  \n",
      "...                 ...  \n",
      "2260696             NaN  \n",
      "2260697             1.0  \n",
      "2260698             NaN  \n",
      "2260699             NaN  \n",
      "2260700             NaN  \n",
      "\n",
      "[2260701 rows x 151 columns]\n"
     ]
    }
   ],
   "source": [
    "df_accepted = pd.read_csv(\"C:\\\\Users\\\\teoni\\\\Downloads\\\\project_loan\\\\accepted_2007_to_2018Q4.csv\")\n",
    "print(df_accepted)"
   ]
  },
  {
   "cell_type": "code",
   "execution_count": 3,
   "metadata": {},
   "outputs": [
    {
     "name": "stdout",
     "output_type": "stream",
     "text": [
      "['id', 'member_id', 'loan_amnt', 'funded_amnt', 'funded_amnt_inv', 'term', 'int_rate', 'installment', 'grade', 'sub_grade', 'emp_title', 'emp_length', 'home_ownership', 'annual_inc', 'verification_status', 'issue_d', 'loan_status', 'pymnt_plan', 'url', 'desc', 'purpose', 'title', 'zip_code', 'addr_state', 'dti', 'delinq_2yrs', 'earliest_cr_line', 'fico_range_low', 'fico_range_high', 'inq_last_6mths', 'mths_since_last_delinq', 'mths_since_last_record', 'open_acc', 'pub_rec', 'revol_bal', 'revol_util', 'total_acc', 'initial_list_status', 'out_prncp', 'out_prncp_inv', 'total_pymnt', 'total_pymnt_inv', 'total_rec_prncp', 'total_rec_int', 'total_rec_late_fee', 'recoveries', 'collection_recovery_fee', 'last_pymnt_d', 'last_pymnt_amnt', 'next_pymnt_d', 'last_credit_pull_d', 'last_fico_range_high', 'last_fico_range_low', 'collections_12_mths_ex_med', 'mths_since_last_major_derog', 'policy_code', 'application_type', 'annual_inc_joint', 'dti_joint', 'verification_status_joint', 'acc_now_delinq', 'tot_coll_amt', 'tot_cur_bal', 'open_acc_6m', 'open_act_il', 'open_il_12m', 'open_il_24m', 'mths_since_rcnt_il', 'total_bal_il', 'il_util', 'open_rv_12m', 'open_rv_24m', 'max_bal_bc', 'all_util', 'total_rev_hi_lim', 'inq_fi', 'total_cu_tl', 'inq_last_12m', 'acc_open_past_24mths', 'avg_cur_bal', 'bc_open_to_buy', 'bc_util', 'chargeoff_within_12_mths', 'delinq_amnt', 'mo_sin_old_il_acct', 'mo_sin_old_rev_tl_op', 'mo_sin_rcnt_rev_tl_op', 'mo_sin_rcnt_tl', 'mort_acc', 'mths_since_recent_bc', 'mths_since_recent_bc_dlq', 'mths_since_recent_inq', 'mths_since_recent_revol_delinq', 'num_accts_ever_120_pd', 'num_actv_bc_tl', 'num_actv_rev_tl', 'num_bc_sats', 'num_bc_tl', 'num_il_tl', 'num_op_rev_tl', 'num_rev_accts', 'num_rev_tl_bal_gt_0', 'num_sats', 'num_tl_120dpd_2m', 'num_tl_30dpd', 'num_tl_90g_dpd_24m', 'num_tl_op_past_12m', 'pct_tl_nvr_dlq', 'percent_bc_gt_75', 'pub_rec_bankruptcies', 'tax_liens', 'tot_hi_cred_lim', 'total_bal_ex_mort', 'total_bc_limit', 'total_il_high_credit_limit', 'revol_bal_joint', 'sec_app_fico_range_low', 'sec_app_fico_range_high', 'sec_app_earliest_cr_line', 'sec_app_inq_last_6mths', 'sec_app_mort_acc', 'sec_app_open_acc', 'sec_app_revol_util', 'sec_app_open_act_il', 'sec_app_num_rev_accts', 'sec_app_chargeoff_within_12_mths', 'sec_app_collections_12_mths_ex_med', 'sec_app_mths_since_last_major_derog', 'hardship_flag', 'hardship_type', 'hardship_reason', 'hardship_status', 'deferral_term', 'hardship_amount', 'hardship_start_date', 'hardship_end_date', 'payment_plan_start_date', 'hardship_length', 'hardship_dpd', 'hardship_loan_status', 'orig_projected_additional_accrued_interest', 'hardship_payoff_balance_amount', 'hardship_last_payment_amount', 'disbursement_method', 'debt_settlement_flag', 'debt_settlement_flag_date', 'settlement_status', 'settlement_date', 'settlement_amount', 'settlement_percentage', 'settlement_term']\n"
     ]
    }
   ],
   "source": [
    "print(df_accepted.columns.tolist())"
   ]
  },
  {
   "cell_type": "code",
   "execution_count": 4,
   "metadata": {},
   "outputs": [
    {
     "name": "stdout",
     "output_type": "stream",
     "text": [
      "                                                       id  loan_amnt  \\\n",
      "0                                                68407277     3600.0   \n",
      "1                                                68355089    24700.0   \n",
      "2                                                68341763    20000.0   \n",
      "3                                                66310712    35000.0   \n",
      "4                                                68476807    10400.0   \n",
      "...                                                   ...        ...   \n",
      "2260696                                          88985880    40000.0   \n",
      "2260697                                          88224441    24000.0   \n",
      "2260698                                          88215728    14000.0   \n",
      "2260699  Total amount funded in policy code 1: 1465324575        NaN   \n",
      "2260700   Total amount funded in policy code 2: 521953170        NaN   \n",
      "\n",
      "               term  int_rate  installment  annual_inc    dti  delinq_2yrs  \\\n",
      "0         36 months     13.99       123.03     55000.0   5.91          0.0   \n",
      "1         36 months     11.99       820.28     65000.0  16.06          1.0   \n",
      "2         60 months     10.78       432.66     63000.0  10.78          0.0   \n",
      "3         60 months     14.85       829.90    110000.0  17.06          0.0   \n",
      "4         60 months     22.45       289.91    104433.0  25.37          1.0   \n",
      "...             ...       ...          ...         ...    ...          ...   \n",
      "2260696   60 months     10.49       859.56    227000.0  12.75          7.0   \n",
      "2260697   60 months     14.49       564.56    110000.0  18.30          0.0   \n",
      "2260698   60 months     14.49       329.33     95000.0  23.36          0.0   \n",
      "2260699         NaN       NaN          NaN         NaN    NaN          NaN   \n",
      "2260700         NaN       NaN          NaN         NaN    NaN          NaN   \n",
      "\n",
      "         revol_util  total_acc  loan_status  \n",
      "0              29.7       13.0   Fully Paid  \n",
      "1              19.2       38.0   Fully Paid  \n",
      "2              56.2       18.0   Fully Paid  \n",
      "3              11.6       17.0      Current  \n",
      "4              64.5       35.0   Fully Paid  \n",
      "...             ...        ...          ...  \n",
      "2260696        64.9       37.0      Current  \n",
      "2260697        68.1       31.0  Charged Off  \n",
      "2260698        54.0       22.0      Current  \n",
      "2260699         NaN        NaN          NaN  \n",
      "2260700         NaN        NaN          NaN  \n",
      "\n",
      "[2260701 rows x 11 columns]\n"
     ]
    }
   ],
   "source": [
    "df_accepted_transformed = df_accepted[['id','loan_amnt','term','int_rate','installment','annual_inc','dti','delinq_2yrs','revol_util','total_acc','loan_status']]\n",
    "print(df_accepted_transformed)\n",
    "\n",
    "# loan_amt: loan amount\n",
    "# term: loan term\n",
    "# int_rate: interest rate: Higher rates imply higher risk customers\n",
    "# installment: High installment relative to income can signal risk\n",
    "# annual_income: lower income may correlate with default\n",
    "# dti: debt-to-income ratio: higher means higher risk\n",
    "# delinq_2yrs: past delinquencies in 2 years\n",
    "# revol_util: credit utilization ratio where high usage of available credit may signal financial stress\n",
    "# total_acc: total number of credit accounts where more accounts may idneicate creditworthiness (or overleveraging)\n",
    "# loan_status: loan outcome (target variable which predicts whether the loan will default)"
   ]
  },
  {
   "cell_type": "code",
   "execution_count": 5,
   "metadata": {},
   "outputs": [
    {
     "name": "stdout",
     "output_type": "stream",
     "text": [
      "               id  loan_amnt        term  int_rate  installment  annual_inc  \\\n",
      "0        68407277     3600.0   36 months     13.99       123.03     55000.0   \n",
      "1        68355089    24700.0   36 months     11.99       820.28     65000.0   \n",
      "2        68341763    20000.0   60 months     10.78       432.66     63000.0   \n",
      "3        66310712    35000.0   60 months     14.85       829.90    110000.0   \n",
      "4        68476807    10400.0   60 months     22.45       289.91    104433.0   \n",
      "...           ...        ...         ...       ...          ...         ...   \n",
      "2260694  89885898    24000.0   60 months     12.79       543.50     95000.0   \n",
      "2260695  88977788    24000.0   60 months     10.49       515.74    108000.0   \n",
      "2260696  88985880    40000.0   60 months     10.49       859.56    227000.0   \n",
      "2260697  88224441    24000.0   60 months     14.49       564.56    110000.0   \n",
      "2260698  88215728    14000.0   60 months     14.49       329.33     95000.0   \n",
      "\n",
      "           dti  delinq_2yrs  revol_util  total_acc  loan_status  \n",
      "0         5.91          0.0        29.7       13.0   Fully Paid  \n",
      "1        16.06          1.0        19.2       38.0   Fully Paid  \n",
      "2        10.78          0.0        56.2       18.0   Fully Paid  \n",
      "3        17.06          0.0        11.6       17.0      Current  \n",
      "4        25.37          1.0        64.5       35.0   Fully Paid  \n",
      "...        ...          ...         ...        ...          ...  \n",
      "2260694  19.61          0.0        84.4       54.0      Current  \n",
      "2260695  34.94          0.0        39.0       58.0      Current  \n",
      "2260696  12.75          7.0        64.9       37.0      Current  \n",
      "2260697  18.30          0.0        68.1       31.0  Charged Off  \n",
      "2260698  23.36          0.0        54.0       22.0      Current  \n",
      "\n",
      "[2260699 rows x 11 columns]\n"
     ]
    },
    {
     "name": "stderr",
     "output_type": "stream",
     "text": [
      "C:\\Users\\teoni\\AppData\\Local\\Temp\\ipykernel_24492\\2770959849.py:2: SettingWithCopyWarning: \n",
      "A value is trying to be set on a copy of a slice from a DataFrame\n",
      "\n",
      "See the caveats in the documentation: https://pandas.pydata.org/pandas-docs/stable/user_guide/indexing.html#returning-a-view-versus-a-copy\n",
      "  df_accepted_transformed.drop(df_accepted_transformed.tail(2).index,inplace=True)\n"
     ]
    }
   ],
   "source": [
    "# Cleaning - since last 2 rows are aggregates and summations of total values, we drop the last 2 rows\n",
    "df_accepted_transformed.drop(df_accepted_transformed.tail(2).index,inplace=True)\n",
    "print(df_accepted_transformed)\n"
   ]
  },
  {
   "cell_type": "code",
   "execution_count": 6,
   "metadata": {},
   "outputs": [
    {
     "data": {
      "text/plain": [
       "True"
      ]
     },
     "execution_count": 6,
     "metadata": {},
     "output_type": "execute_result"
    }
   ],
   "source": [
    "# Cleaning - drop null values (if any):\n",
    "df_accepted_transformed.isnull().values.any()"
   ]
  },
  {
   "cell_type": "code",
   "execution_count": 8,
   "metadata": {},
   "outputs": [
    {
     "name": "stdout",
     "output_type": "stream",
     "text": [
      "               id  loan_amnt        term  int_rate  installment  annual_inc  \\\n",
      "0        68407277     3600.0   36 months     13.99       123.03     55000.0   \n",
      "1        68355089    24700.0   36 months     11.99       820.28     65000.0   \n",
      "2        68341763    20000.0   60 months     10.78       432.66     63000.0   \n",
      "3        66310712    35000.0   60 months     14.85       829.90    110000.0   \n",
      "4        68476807    10400.0   60 months     22.45       289.91    104433.0   \n",
      "...           ...        ...         ...       ...          ...         ...   \n",
      "2260694  89885898    24000.0   60 months     12.79       543.50     95000.0   \n",
      "2260695  88977788    24000.0   60 months     10.49       515.74    108000.0   \n",
      "2260696  88985880    40000.0   60 months     10.49       859.56    227000.0   \n",
      "2260697  88224441    24000.0   60 months     14.49       564.56    110000.0   \n",
      "2260698  88215728    14000.0   60 months     14.49       329.33     95000.0   \n",
      "\n",
      "           dti  delinq_2yrs  revol_util  total_acc  loan_status  \n",
      "0         5.91          0.0        29.7       13.0   Fully Paid  \n",
      "1        16.06          1.0        19.2       38.0   Fully Paid  \n",
      "2        10.78          0.0        56.2       18.0   Fully Paid  \n",
      "3        17.06          0.0        11.6       17.0      Current  \n",
      "4        25.37          1.0        64.5       35.0   Fully Paid  \n",
      "...        ...          ...         ...        ...          ...  \n",
      "2260694  19.61          0.0        84.4       54.0      Current  \n",
      "2260695  34.94          0.0        39.0       58.0      Current  \n",
      "2260696  12.75          7.0        64.9       37.0      Current  \n",
      "2260697  18.30          0.0        68.1       31.0  Charged Off  \n",
      "2260698  23.36          0.0        54.0       22.0      Current  \n",
      "\n",
      "[2257159 rows x 11 columns]\n"
     ]
    }
   ],
   "source": [
    "# Cleaning - drop null values (if any) - dropped 10,000 values (which is 0.5% of values of data, hence shouldn't be a factor)\n",
    "df_accepted_transformed = df_accepted_transformed.dropna() \n",
    "df_accepted_transformed.describe()\n",
    "print(df_accepted_transformed)"
   ]
  },
  {
   "cell_type": "code",
   "execution_count": 9,
   "metadata": {},
   "outputs": [
    {
     "name": "stdout",
     "output_type": "stream",
     "text": [
      "               id  loan_amnt term  int_rate  installment  annual_inc    dti  \\\n",
      "0        68407277     3600.0   36     13.99       123.03     55000.0   5.91   \n",
      "1        68355089    24700.0   36     11.99       820.28     65000.0  16.06   \n",
      "2        68341763    20000.0   60     10.78       432.66     63000.0  10.78   \n",
      "3        66310712    35000.0   60     14.85       829.90    110000.0  17.06   \n",
      "4        68476807    10400.0   60     22.45       289.91    104433.0  25.37   \n",
      "...           ...        ...  ...       ...          ...         ...    ...   \n",
      "2260694  89885898    24000.0   60     12.79       543.50     95000.0  19.61   \n",
      "2260695  88977788    24000.0   60     10.49       515.74    108000.0  34.94   \n",
      "2260696  88985880    40000.0   60     10.49       859.56    227000.0  12.75   \n",
      "2260697  88224441    24000.0   60     14.49       564.56    110000.0  18.30   \n",
      "2260698  88215728    14000.0   60     14.49       329.33     95000.0  23.36   \n",
      "\n",
      "         delinq_2yrs  revol_util  total_acc  loan_status  \n",
      "0                0.0        29.7       13.0            0  \n",
      "1                1.0        19.2       38.0            0  \n",
      "2                0.0        56.2       18.0            0  \n",
      "3                0.0        11.6       17.0            0  \n",
      "4                1.0        64.5       35.0            0  \n",
      "...              ...         ...        ...          ...  \n",
      "2260694          0.0        84.4       54.0            0  \n",
      "2260695          0.0        39.0       58.0            0  \n",
      "2260696          7.0        64.9       37.0            0  \n",
      "2260697          0.0        68.1       31.0            1  \n",
      "2260698          0.0        54.0       22.0            0  \n",
      "\n",
      "[2257159 rows x 11 columns]\n"
     ]
    }
   ],
   "source": [
    "# Feature engineering:\n",
    "# (1) Loan Status --> Y variable is loan_status, we need a variable (Fully Paid and Current as 0, where Charged Off as 1 - defaulted on loan)\n",
    "df_accepted_transformed['loan_status'] = df_accepted_transformed['loan_status'].map(lambda x: 1 if x == 'Charged Off' else 0)\n",
    "df_accepted_transformed['term'] = df_accepted_transformed['term'].str.replace(\" months\", \"\")\n",
    "print(df_accepted_transformed)\n"
   ]
  },
  {
   "cell_type": "code",
   "execution_count": 11,
   "metadata": {},
   "outputs": [],
   "source": [
    "X = df_accepted_transformed.drop(columns=['loan_status', 'id'])\n",
    "y = df_accepted_transformed['loan_status']\n",
    "X_train, X_test, y_train, y_test = train_test_split(X,y,test_size=0.2,random_state=42)"
   ]
  },
  {
   "cell_type": "code",
   "execution_count": 12,
   "metadata": {},
   "outputs": [
    {
     "name": "stderr",
     "output_type": "stream",
     "text": [
      "c:\\Users\\teoni\\AppData\\Local\\Programs\\Python\\Python312\\Lib\\site-packages\\sklearn\\linear_model\\_logistic.py:465: ConvergenceWarning: lbfgs failed to converge (status=1):\n",
      "STOP: TOTAL NO. OF ITERATIONS REACHED LIMIT.\n",
      "\n",
      "Increase the number of iterations (max_iter) or scale the data as shown in:\n",
      "    https://scikit-learn.org/stable/modules/preprocessing.html\n",
      "Please also refer to the documentation for alternative solver options:\n",
      "    https://scikit-learn.org/stable/modules/linear_model.html#logistic-regression\n",
      "  n_iter_i = _check_optimize_result(\n"
     ]
    },
    {
     "name": "stdout",
     "output_type": "stream",
     "text": [
      "Model Accuracy: 88.05%\n",
      "Classification Report:\n",
      "               precision    recall  f1-score   support\n",
      "\n",
      "           0       0.88      1.00      0.94    397554\n",
      "           1       0.23      0.00      0.00     53878\n",
      "\n",
      "    accuracy                           0.88    451432\n",
      "   macro avg       0.55      0.50      0.47    451432\n",
      "weighted avg       0.80      0.88      0.82    451432\n",
      "\n",
      "Confusion Matrix:\n",
      " [[397437    117]\n",
      " [ 53844     34]]\n"
     ]
    }
   ],
   "source": [
    "# 1. Try LogisticRegression\n",
    "model = LogisticRegression(max_iter=1000)\n",
    "model.fit(X_train, y_train)\n",
    "y_pred = model.predict(X_test)\n",
    "accuracy = accuracy_score(y_test, y_pred)\n",
    "\n",
    "# Measures of model accuracy / classification report accuracy:\n",
    "print(f\"Model Accuracy: {accuracy * 100:.2f}%\")\n",
    "print(\"Classification Report:\\n\", classification_report(y_test,y_pred))\n",
    "print(\"Confusion Matrix:\\n\", confusion_matrix(y_test,y_pred))\n",
    "\n",
    "# This generated all results with 0 indicators (of 0 with no defaults). We now try using other models such as Random Forest"
   ]
  },
  {
   "cell_type": "code",
   "execution_count": null,
   "metadata": {},
   "outputs": [
    {
     "name": "stdout",
     "output_type": "stream",
     "text": [
      "Accuracy: 0.5227741941200447\n",
      "Classification Report:\n",
      "               precision    recall  f1-score   support\n",
      "\n",
      "           0       0.95      0.49      0.64    397554\n",
      "           1       0.17      0.80      0.28     53878\n",
      "\n",
      "    accuracy                           0.52    451432\n",
      "   macro avg       0.56      0.64      0.46    451432\n",
      "weighted avg       0.85      0.52      0.60    451432\n",
      "\n",
      "Confusion Matrix:\n",
      " [[193076 204478]\n",
      " [ 10957  42921]]\n"
     ]
    }
   ],
   "source": [
    "# 2. Try Decision Trees - good for quick predictions, but struggles with overfitting.\n",
    "\n",
    "\n",
    "model2 = DecisionTreeClassifier(max_depth=5, min_samples_split=20, class_weight=\"balanced\", random_state=42)\n",
    "model2.fit(X_train,y_train)\n",
    "y_pred = model2.predict(X_test)\n",
    "\n",
    "print(\"Accuracy:\", accuracy_score(y_test, y_pred))\n",
    "print(\"Classification Report:\\n\", classification_report(y_test, y_pred))\n",
    "print(\"Confusion Matrix:\\n\", confusion_matrix(y_test, y_pred))"
   ]
  },
  {
   "cell_type": "code",
   "execution_count": 14,
   "metadata": {},
   "outputs": [
    {
     "name": "stdout",
     "output_type": "stream",
     "text": [
      "Model Accuracy: 88.02%\n",
      "Classification Report:\n",
      "               precision    recall  f1-score   support\n",
      "\n",
      "           0       0.88      1.00      0.94    397554\n",
      "           1       0.38      0.01      0.01     53878\n",
      "\n",
      "    accuracy                           0.88    451432\n",
      "   macro avg       0.63      0.50      0.47    451432\n",
      "weighted avg       0.82      0.88      0.83    451432\n",
      "\n",
      "Confusion Matrix:\n",
      " [[397068    486]\n",
      " [ 53575    303]]\n"
     ]
    }
   ],
   "source": [
    "# 3. Try RandomForest as it can handle imbalanced classes better\n",
    "model3 = RandomForestClassifier(n_estimators=100, class_weight='balanced', random_state = 42)\n",
    "model3.fit(X_train, y_train)\n",
    "y_pred = model3.predict(X_test)\n",
    "accuracy = accuracy_score(y_test, y_pred)\n",
    "\n",
    "# Measures of model accuracy / classification report accuracy:\n",
    "print(f\"Model Accuracy: {accuracy * 100:.2f}%\")\n",
    "print(\"Classification Report:\\n\", classification_report(y_test,y_pred))\n",
    "print(\"Confusion Matrix:\\n\", confusion_matrix(y_test,y_pred))\n",
    "\n",
    "# Now we see that Model Accuracy = 88.03% with a Random Forest model"
   ]
  },
  {
   "cell_type": "code",
   "execution_count": 15,
   "metadata": {},
   "outputs": [
    {
     "name": "stdout",
     "output_type": "stream",
     "text": [
      "Updated Classification Report:\n",
      "               precision    recall  f1-score   support\n",
      "\n",
      "           0       0.89      0.96      0.92    397554\n",
      "           1       0.30      0.14      0.19     53878\n",
      "\n",
      "    accuracy                           0.86    451432\n",
      "   macro avg       0.60      0.55      0.56    451432\n",
      "weighted avg       0.82      0.86      0.84    451432\n",
      "\n",
      "Updated Confusion Matrix:\n",
      " [[380353  17201]\n",
      " [ 46476   7402]]\n"
     ]
    }
   ],
   "source": [
    "# Get probability predictions instead of direct class predictions\n",
    "y_probs = model3.predict_proba(X_test)[:, 1]  # Probability of Default (Class 1)\n",
    "\n",
    "# Adjust threshold (default is 0.5)\n",
    "threshold = 0.3  # Try 0.3, 0.25, or 0.2\n",
    "y_pred_adjusted = (y_probs >= threshold).astype(int)\n",
    "\n",
    "# Recalculate classification metrics\n",
    "print(\"Updated Classification Report:\\n\", classification_report(y_test, y_pred_adjusted))\n",
    "print(\"Updated Confusion Matrix:\\n\", confusion_matrix(y_test, y_pred_adjusted))\n"
   ]
  },
  {
   "cell_type": "code",
   "execution_count": null,
   "metadata": {},
   "outputs": [],
   "source": [
    "# accuracy - but this may not be the best model as this is an imbalanced classification model (where loan default is much rarer than full repayment)\n",
    "# prediction - how many of the predicted defaults are actually defaults?\n",
    "# recall - how many actual defaults did the model correctly catch?\n",
    "# F1 score - balance between precision & recall (ueeful for imbalanced data)"
   ]
  },
  {
   "cell_type": "code",
   "execution_count": 17,
   "metadata": {},
   "outputs": [],
   "source": [
    "# Use the model built for model predictions\n",
    "\n",
    "joblib.dump(model3, 'loan_default_model.pkl')\n",
    "model3 = joblib.load('loan_default_model.pkl')\n",
    "predictions = model3.predict(X_test)"
   ]
  },
  {
   "cell_type": "code",
   "execution_count": 18,
   "metadata": {},
   "outputs": [
    {
     "name": "stdout",
     "output_type": "stream",
     "text": [
      "Prediction: No Default\n",
      "Probability of Default: 19.00%\n"
     ]
    }
   ],
   "source": [
    "# Test the model against a sample input data \n",
    "\n",
    "new_application = np.array([15000, 36, 12.5, 400, 70000, 25, 0, 50, 10]).reshape(1, -1)\n",
    "feature_names = ['loan_amnt', 'term', 'int_rate', 'installment', 'annual_inc', \n",
    "                 'dti', 'delinq_2yrs', 'revol_util', 'total_acc']\n",
    "new_application_df = pd.DataFrame(new_application, columns=feature_names)\n",
    "\n",
    "# Output result - whether will default / not default & probability of default\n",
    "\n",
    "prediction = model3.predict(new_application_df)\n",
    "print(\"Prediction:\", \"Default\" if prediction[0] == 1 else \"No Default\")\n",
    "probabilities = model3.predict_proba(new_application_df)\n",
    "print(f\"Probability of Default: {probabilities[0][1]:.2%}\")"
   ]
  }
 ],
 "metadata": {
  "kernelspec": {
   "display_name": "Python 3",
   "language": "python",
   "name": "python3"
  },
  "language_info": {
   "codemirror_mode": {
    "name": "ipython",
    "version": 3
   },
   "file_extension": ".py",
   "mimetype": "text/x-python",
   "name": "python",
   "nbconvert_exporter": "python",
   "pygments_lexer": "ipython3",
   "version": "3.12.2"
  }
 },
 "nbformat": 4,
 "nbformat_minor": 2
}
